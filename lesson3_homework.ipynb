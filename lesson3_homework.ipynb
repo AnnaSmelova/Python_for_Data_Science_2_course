{
 "cells": [
  {
   "cell_type": "markdown",
   "metadata": {},
   "source": [
    "**Автор: Анна Смелова**"
   ]
  },
  {
   "cell_type": "markdown",
   "metadata": {},
   "source": [
    "## Решение домашнего задания к уроку 3 “Построение модели классификации.”"
   ]
  },
  {
   "cell_type": "markdown",
   "metadata": {},
   "source": [
    "### Задание 1\n",
    "#### Для чего и в каких случаях полезны различные варианты усреднения для метрик качества классификации: micro, macro, weighted?"
   ]
  },
  {
   "cell_type": "markdown",
   "metadata": {},
   "source": [
    "Усреднения метрик качества нужны для того, чтобы понять общую картину предсказания. Особо это актуально будет в случае многоклассовой классификации. "
   ]
  },
  {
   "cell_type": "code",
   "execution_count": 1,
   "metadata": {},
   "outputs": [],
   "source": [
    "from sklearn.metrics import f1_score\n",
    "#f1_score?"
   ]
  },
  {
   "cell_type": "markdown",
   "metadata": {},
   "source": [
    "``'micro'``:\n",
    "        Calculate metrics globally by counting the total true positives,\n",
    "        false negatives and false positives.<br>\n",
    "``'macro'``:\n",
    "        Calculate metrics for each label, and find their unweighted\n",
    "        mean.  This does not take label imbalance into account.<br>\n",
    "``'weighted'``:\n",
    "        Calculate metrics for each label, and find their average weighted\n",
    "        by support (the number of true instances for each label). This\n",
    "        alters 'macro' to account for label imbalance; it can result in an\n",
    "        F-score that is not between precision and recall."
   ]
  },
  {
   "cell_type": "markdown",
   "metadata": {},
   "source": [
    "1. **micro** - любые метрики, посдчитанные с average='micro' - это Accuracy, то есть просто доля правильных ответов. <br>\n",
    "Видимо, не самый полезный метод усреднения метрик.\n",
    "2. **macro** - учитывается доля правильных ответов в разрезе каждого конкретного класса, а затем берется среднее арифметическое от них.<br>\n",
    "Хорошо использовать для сбалансированных данных.\n",
    "3. **weighted** - учитывается доля правильных ответов в разрезе каждого конкретного класса, нормируется на количество элементов класса и суммируется.<br>\n",
    "Используется для данных, в которых есть явный дисбаланс классов."
   ]
  },
  {
   "cell_type": "markdown",
   "metadata": {},
   "source": [
    "### Задание 2\n",
    "#### В чём разница между моделями xgboost, lightgbm и catboost или какие их основные особенности?"
   ]
  },
  {
   "cell_type": "markdown",
   "metadata": {},
   "source": [
    "Xgboost, lightgbm и catboost - разновидности градиентного бустинга. То есть, каждое последующее дерево строится на ошибках предыдущего. Затем результаты каждого дерева складывают, умножая перед этим на коэффициент скорости обучения (чтобы избежать переобучения).\n",
    "1. **XGBoost** отличается тем, что при построении дерева считается не энтропия или критерий Джини, а величина **𝑆𝑖𝑚𝑖𝑙𝑎𝑟𝑖𝑡𝑦 - показатель \"похожести\" объектов внутри одного листа дерева.** $Similarity = \\frac{(\\sum{Resideal_i})^2}{\\sum{[Prev Proba_i * (1 - Prev Proba_i)]} + \\lambda}$<br>\n",
    "Прирост информации сичтается по формуле $Gain = Left_{Similarity} + Right_{Similarity} - Root_{Similarity}$.<br>\n",
    "Также есть возможность стиржки деревьев, используя переданное значение параметра $\\gamma$. В случае, когда прирост информации больше $\\gamma$, ветка остается, иначе удаляется.\n",
    "2. **LightGBM** отличается гораздо более **быстрым обучением**, чем другие реализации градиентного бустинга. Он может обучаться не на всей выборке, а на подвыборке, ограниченной по методу GOSS от параметров a и b. Считается ошибка первого дерева, затем выбираются объекты, на которых была большая ошибка и берется a% таких объектов, потом к ним добавляются b% рандомных объектов из оставшейся подвыборки.<br>\n",
    "Также в нем используется Exclusive Feature Bundling, то есть уменьшение количества признаков(с разреженными данными) путем соединения нескольких в один общий признак. <br>\n",
    "В LightGBM деревья строятся \"однобокие\" - последующее разбиение строится для листа с более \"грязными\" данными, т.е. там, где энтропия больше.\n",
    "3. **Catboost** отличается тем, что делает **предсказание гораздо быстрее** других бустингов, т.к. деревья в нем всегда симметричные, такая структура позволяет выдавать очень быстрые ответы. Также Catboost **самостоятельно работает с переобучением** и **с категориальными признаками**."
   ]
  }
 ],
 "metadata": {
  "kernelspec": {
   "display_name": "Python 3",
   "language": "python",
   "name": "python3"
  },
  "language_info": {
   "codemirror_mode": {
    "name": "ipython",
    "version": 3
   },
   "file_extension": ".py",
   "mimetype": "text/x-python",
   "name": "python",
   "nbconvert_exporter": "python",
   "pygments_lexer": "ipython3",
   "version": "3.7.3"
  }
 },
 "nbformat": 4,
 "nbformat_minor": 2
}
